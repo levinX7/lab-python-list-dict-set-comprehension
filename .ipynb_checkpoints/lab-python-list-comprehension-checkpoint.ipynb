{
 "cells": [
  {
   "cell_type": "markdown",
   "id": "25d7736c-ba17-4aff-b6bb-66eba20fbf4e",
   "metadata": {},
   "source": [
    "# Lab | List, Dict and Set Comprehension"
   ]
  },
  {
   "cell_type": "markdown",
   "id": "7dd3cbde-675a-4b81-92c3-f728846dbe06",
   "metadata": {},
   "source": [
    "## Exercise: Managing Customer Orders Optimized with Comprehension"
   ]
  },
  {
   "cell_type": "markdown",
   "id": "5d500160-2fb7-4777-b5e4-09d45ebaf328",
   "metadata": {},
   "source": [
    "In the previous exercise, you developed a program to manage customer orders and inventory. Now, let's take it a step further and incorporate comprehension into your code.\n",
    "\n",
    "Follow the steps below to complete the exercise:\n",
    "\n",
    "1. Review your code from the previous exercise and identify areas where you can apply comprehension to simplify and streamline your code. \n",
    "\n",
    "    - *Hint: Apply it to initialize inventory, updating the inventory and printing the updated inventory.*\n",
    "    \n",
    "    - For example, in initializing the inventory, we could have:\n",
    "    \n",
    "        ```python\n",
    "        def initialize_inventory(products):\n",
    "            inventory = {product: int(input(f\"Enter the quantity of {product}s available: \")) for product in products}\n",
    "            return inventory\n",
    "\n",
    "        ```\n",
    "<br>\n",
    "    \n",
    "    \n",
    "2. Modify the function get_customer_orders so it prompts the user to enter the number of customer orders and gathers the product names using a loop and user input. Use comprehension.\n",
    "\n",
    "3. Add a new function to calculate the total price of the customer order. For each product in customer_orders, prompt the user to enter the price of that product. Use comprehension to calculate the total price. Note: assume that the user can only have 1 unit of each product.\n",
    "\n",
    "4. Modify the update_inventory function to remove the product from the inventory if its quantity becomes zero after fulfilling the customer orders. Use comprehension to filter out the products with a quantity of zero from the inventory.\n",
    "\n",
    "5. Print the total price of the customer order.\n",
    "\n",
    "Your code should produce output similar to the following:\n",
    "\n",
    "```python\n",
    "Enter the quantity of t-shirts available:  5\n",
    "Enter the quantity of mugs available:  4\n",
    "Enter the quantity of hats available:  3\n",
    "Enter the quantity of books available:  2\n",
    "Enter the quantity of keychains available:  1\n",
    "Enter the number of customer orders:  2\n",
    "Enter the name of a product that a customer wants to order:  hat\n",
    "Enter the name of a product that a customer wants to order:  keychain\n",
    "\n",
    "Order Statistics:\n",
    "Total Products Ordered: 2\n",
    "Percentage of Unique Products Ordered: 40.0\n",
    "\n",
    "Updated Inventory:\n",
    "t-shirt: 5\n",
    "mug: 4\n",
    "hat: 2\n",
    "book: 2\n",
    "Enter the price of keychain:  5\n",
    "Enter the price of hat:  10\n",
    "Total Price: 15.0\n",
    "\n",
    "```\n"
   ]
  },
  {
   "cell_type": "code",
   "execution_count": 149,
   "id": "62809faf-dd7b-49a1-bead-5f6b222eb973",
   "metadata": {},
   "outputs": [],
   "source": [
    "#1\n",
    "def initialize_inventory(products):\n",
    "    inventory = {product: int(input(\"Enter the amount for \"+product+\" available: \")) for product in products}\n",
    "    return inventory"
   ]
  },
  {
   "cell_type": "code",
   "execution_count": 151,
   "id": "22888188-390f-428c-849a-de226a8db436",
   "metadata": {},
   "outputs": [],
   "source": [
    "#2\n",
    "def get_customer_orders():\n",
    "    print(\"Here is the current list of products: \")\n",
    "    print(products)\n",
    "    number = int(input(\"Enter the number of products you want to order: \"))\n",
    "\n",
    "    customer_orders = {input(\"Enter the product Name: \") for _ in range(number)}\n",
    "    return customer_orders\n",
    "    "
   ]
  },
  {
   "cell_type": "code",
   "execution_count": null,
   "id": "de293dc0-4e24-47e8-a172-f72f668ba4bc",
   "metadata": {},
   "outputs": [],
   "source": []
  },
  {
   "cell_type": "code",
   "execution_count": 154,
   "id": "6b2b79b5-50c8-4e00-a709-1cb7f885ef37",
   "metadata": {},
   "outputs": [],
   "source": [
    "#4\n",
    "def update_inventory(customer_orders, inventory):\n",
    "    inventory = {product: inventory[product] - 1 if product in customer_orders else inventory[product] for product in inventory if (inventory[product] - 1 if product in customer_orders else inventory[product]) > 0}\n",
    "    return(inventory)"
   ]
  },
  {
   "cell_type": "code",
   "execution_count": 156,
   "id": "a6a0f3b5-2d2d-433b-9603-46cdaba17776",
   "metadata": {},
   "outputs": [],
   "source": [
    "def calculate_order_statistics(customer_orders, products):\n",
    "    total_products_ordered = len(customer_orders)\n",
    "\n",
    "    total_products = sum(inventory.values())\n",
    "    \n",
    "    percentage_products_ordered = (total_products_ordered / total_products)*100\n",
    "\n",
    "    order_statistics = (total_products_ordered, percentage_products_ordered)\n",
    "    \n",
    "    return(order_statistics)"
   ]
  },
  {
   "cell_type": "code",
   "execution_count": 158,
   "id": "b7382790-164c-4de6-a9d7-dc2ec66b1f57",
   "metadata": {},
   "outputs": [],
   "source": [
    "def print_order_statistics(order_statistics):\n",
    "    print(\"Order Statistics: \")\n",
    "    print(\"Total Products Ordered: \"+str(order_statistics[0]))\n",
    "    print(f\"Percentage of Products Ordered: {order_statistics[1]:.2f}%\")"
   ]
  },
  {
   "cell_type": "code",
   "execution_count": 160,
   "id": "b02d9877-29ff-4997-9c40-2659974c41a9",
   "metadata": {},
   "outputs": [],
   "source": [
    "def print_updated_inventory(inventory):\n",
    "    print(inventory)"
   ]
  },
  {
   "cell_type": "code",
   "execution_count": 162,
   "id": "67763afb-7f88-4b7f-9753-803316368063",
   "metadata": {},
   "outputs": [],
   "source": [
    "#3\n",
    "def total_price():\n",
    "    total = sum([float(input(\"Enter the price of: \"+order)) for order in customer_orders])\n",
    "    return(\"Total Price: \"+str(total))"
   ]
  },
  {
   "cell_type": "code",
   "execution_count": 164,
   "id": "22396280-1c38-4c89-a4ba-9df13c072d29",
   "metadata": {},
   "outputs": [
    {
     "name": "stdin",
     "output_type": "stream",
     "text": [
      "Enter the amount for tshirt available:  5\n",
      "Enter the amount for mug available:  4\n",
      "Enter the amount for hat available:  2\n",
      "Enter the amount for book available:  1\n",
      "Enter the amount for keychain available:  4\n"
     ]
    },
    {
     "name": "stdout",
     "output_type": "stream",
     "text": [
      "Here is the current list of products: \n",
      "['tshirt', 'mug', 'hat', 'book', 'keychain']\n"
     ]
    },
    {
     "name": "stdin",
     "output_type": "stream",
     "text": [
      "Enter the number of products you want to order:  2\n",
      "Enter the product Name:  tshirt\n",
      "Enter the product Name:  book\n"
     ]
    },
    {
     "name": "stdout",
     "output_type": "stream",
     "text": [
      "{'tshirt', 'book'}\n",
      "{'tshirt': 4, 'mug': 4, 'hat': 2, 'keychain': 4}\n"
     ]
    },
    {
     "name": "stdin",
     "output_type": "stream",
     "text": [
      "Enter the price of: tshirt 2\n",
      "Enter the price of: book 13\n"
     ]
    },
    {
     "name": "stdout",
     "output_type": "stream",
     "text": [
      "Total Price: 15.0\n"
     ]
    }
   ],
   "source": [
    "products = [\"tshirt\",\"mug\",\"hat\",\"book\",\"keychain\"]\n",
    "\n",
    "inventory = initialize_inventory(products)\n",
    "customer_orders = get_customer_orders()\n",
    "print(customer_orders)\n",
    "inventory = update_inventory(customer_orders, inventory)\n",
    "print(inventory)\n",
    "summ = total_price()\n",
    "print(summ)"
   ]
  },
  {
   "cell_type": "code",
   "execution_count": null,
   "id": "e43c68f8-524f-4ea9-8326-27e498843085",
   "metadata": {},
   "outputs": [],
   "source": []
  }
 ],
 "metadata": {
  "kernelspec": {
   "display_name": "Python [conda env:base] *",
   "language": "python",
   "name": "conda-base-py"
  },
  "language_info": {
   "codemirror_mode": {
    "name": "ipython",
    "version": 3
   },
   "file_extension": ".py",
   "mimetype": "text/x-python",
   "name": "python",
   "nbconvert_exporter": "python",
   "pygments_lexer": "ipython3",
   "version": "3.12.7"
  }
 },
 "nbformat": 4,
 "nbformat_minor": 5
}
